{
 "cells": [
  {
   "cell_type": "code",
   "execution_count": 1,
   "metadata": {},
   "outputs": [],
   "source": [
    "from baseline_transformer_MORPH_conv import *\n",
    "import copy"
   ]
  },
  {
   "cell_type": "code",
   "execution_count": 2,
   "metadata": {},
   "outputs": [
    {
     "name": "stdout",
     "output_type": "stream",
     "text": [
      "True\n"
     ]
    }
   ],
   "source": [
    "device = torch.device(\"cuda\" if torch.cuda.is_available() else \"cpu\")\n",
    "print(torch.cuda.is_available())  # Renvoie True si un GPU est disponible\n",
    "\n",
    "batch_size=16\n",
    "epochs=10"
   ]
  },
  {
   "cell_type": "code",
   "execution_count": 3,
   "metadata": {},
   "outputs": [],
   "source": [
    "# Load data using the load_data_1 function\n",
    "sentences, morphs = load_data(\"UD_French-Sequoia/fr_sequoia-ud-train.conllu\")\n",
    "\n",
    "# Create character and tag mappings\n",
    "char_counts = Counter(char for sentence in sentences for word in sentence for char in word)\n",
    "char_to_ix = {char: i for i, char in enumerate(char_counts, start=2)}\n",
    "char_to_ix['<PAD>'], char_to_ix['<UNK>'] = 0, 1  # Padding and unknown character\n",
    "\n",
    "morph_counts = Counter(tag for tags in morphs for tag in tags)\n",
    "morph_to_ix = {tag: i for i, tag in enumerate(morph_counts)}\n",
    "\n",
    "max_word_len = max(len(word) for sentence in sentences for word in sentence)\n",
    "\n",
    "# Now load the data in the desired format using the load_data function\n",
    "train_sentences, train_morph = load_data_preprocess(\"UD_French-Sequoia/fr_sequoia-ud-train.conllu\", char_to_ix, max_word_len)\n",
    "validation_sentences, validation_morph = load_data_preprocess(\"UD_French-Sequoia/fr_sequoia-ud-dev.conllu\", char_to_ix, max_word_len)\n",
    "\n",
    "# Rest of your code for Dataset, DataLoader, Model initialization, etc.\n",
    "\n",
    "# Dataset and DataLoader\n",
    "dataset = MORPHDataset(train_sentences, train_morph, morph_to_ix, max_word_len,char_to_ix)\n",
    "data_loader = DataLoader(dataset, batch_size=batch_size, shuffle=True, collate_fn=collate_fn)\n",
    "\n",
    "validation_dataset = MORPHDataset(validation_sentences, validation_morph, morph_to_ix, max_word_len,char_to_ix)\n",
    "validation_data_loader = DataLoader(validation_dataset, batch_size=batch_size, shuffle=False, collate_fn=collate_fn)"
   ]
  },
  {
   "cell_type": "code",
   "execution_count": 4,
   "metadata": {},
   "outputs": [
    {
     "name": "stderr",
     "output_type": "stream",
     "text": [
      "C:\\Users\\victo\\AppData\\Local\\Packages\\PythonSoftwareFoundation.Python.3.11_qbz5n2kfra8p0\\LocalCache\\local-packages\\Python311\\site-packages\\torch\\nn\\modules\\transformer.py:282: UserWarning: enable_nested_tensor is True, but self.use_nested_tensor is False because encoder_layer.self_attn.batch_first was not True(use batch_first for better inference performance)\n",
      "  warnings.warn(f\"enable_nested_tensor is True, but self.use_nested_tensor is False because {why_not_sparsity_fast_path}\")\n",
      "C:\\Users\\victo\\AppData\\Local\\Packages\\PythonSoftwareFoundation.Python.3.11_qbz5n2kfra8p0\\LocalCache\\local-packages\\Python311\\site-packages\\tqdm\\auto.py:21: TqdmWarning: IProgress not found. Please update jupyter and ipywidgets. See https://ipywidgets.readthedocs.io/en/stable/user_install.html\n",
      "  from .autonotebook import tqdm as notebook_tqdm\n"
     ]
    }
   ],
   "source": [
    "# Model initialization\n",
    "num_chars = len(char_to_ix)\n",
    "char_embedding_dim = 512\n",
    "num_filters = 512\n",
    "kernel_size = 20\n",
    "nhead = 4\n",
    "nhid = 1024\n",
    "nlayers = 3\n",
    "tagset_size = len(morph_to_ix)\n",
    "\n",
    "model = MorphTransformerModel(num_chars, char_embedding_dim, num_filters, kernel_size, nhead, nhid, nlayers, tagset_size)\n",
    "\n",
    "# Loss and Optimizer\n",
    "loss_function = nn.CrossEntropyLoss(ignore_index=-1)\n",
    "optimizer = optim.SGD(model.parameters(), lr=0.01, momentum=0.9)\n"
   ]
  },
  {
   "cell_type": "markdown",
   "metadata": {},
   "source": [
    "<h2> Training"
   ]
  },
  {
   "cell_type": "code",
   "execution_count": 5,
   "metadata": {},
   "outputs": [
    {
     "name": "stdout",
     "output_type": "stream",
     "text": [
      "Epoch 1, Validation Loss: 0.9928, Validation Accuracy: 0.7807\n",
      "best model accuracy: 0.7807\n",
      "Epoch 1, Loss: 1.302300634128707\n",
      "Epoch 2, Validation Loss: 0.8474, Validation Accuracy: 0.8052\n",
      "best model accuracy: 0.8052\n",
      "Epoch 2, Loss: 0.9284173477973257\n",
      "Epoch 3, Validation Loss: 0.6774, Validation Accuracy: 0.8357\n",
      "best model accuracy: 0.8357\n",
      "Epoch 3, Loss: 0.7799464132104601\n",
      "Epoch 4, Validation Loss: 0.5253, Validation Accuracy: 0.8764\n",
      "best model accuracy: 0.8764\n",
      "Epoch 4, Loss: 0.6158706061542034\n",
      "Epoch 5, Validation Loss: 0.3676, Validation Accuracy: 0.9070\n",
      "best model accuracy: 0.9070\n",
      "Epoch 5, Loss: 0.45235786704080444\n",
      "Epoch 6, Validation Loss: 0.2784, Validation Accuracy: 0.9307\n",
      "best model accuracy: 0.9307\n",
      "Epoch 6, Loss: 0.3412046594279153\n",
      "Epoch 7, Validation Loss: 0.2106, Validation Accuracy: 0.9487\n",
      "best model accuracy: 0.9487\n",
      "Epoch 7, Loss: 0.25863708555698395\n",
      "Epoch 8, Validation Loss: 0.1836, Validation Accuracy: 0.9533\n",
      "best model accuracy: 0.9533\n",
      "Epoch 8, Loss: 0.20552840333964142\n",
      "Epoch 9, Validation Loss: 0.1630, Validation Accuracy: 0.9590\n",
      "best model accuracy: 0.9590\n",
      "Epoch 9, Loss: 0.1698963998151677\n",
      "Epoch 10, Validation Loss: 0.1541, Validation Accuracy: 0.9596\n",
      "best model accuracy: 0.9596\n",
      "Epoch 10, Loss: 0.1473873086007578\n"
     ]
    }
   ],
   "source": [
    "patience = 5  # Nombre d'époques à attendre après la dernière amélioration de la loss de validation\n",
    "best_val_accuracy = 0\n",
    "epochs_no_improve = 0\n",
    "\n",
    "#Training\n",
    "for epoch in range(epochs): \n",
    "    model.train()\n",
    "    model.to(device)  # Déplacer le modèle sur le GPU si disponible\n",
    "    total_loss = 0\n",
    "    for sentence_in, targets in data_loader:\n",
    "        sentence_in, targets = sentence_in.to(device), targets.to(device)  # Déplacer les données sur le périphérique\n",
    "        optimizer.zero_grad()\n",
    "        tag_scores = model(sentence_in)\n",
    "        loss = loss_function(tag_scores.view(-1, len(morph_to_ix)), targets.view(-1))\n",
    "        loss.backward()\n",
    "        optimizer.step()\n",
    "        total_loss += loss.item()\n",
    "\n",
    "    # Utiliser la fonction modifiée pour évaluer la validation loss et l'accuracy\n",
    "    val_loss, val_accuracy = evaluate_model(model, validation_data_loader, loss_function,device, morph_to_ix)\n",
    "    print(f\"Epoch {epoch+1}, Validation Loss: {val_loss:.4f}, Validation Accuracy: {val_accuracy:.4f}\")\n",
    "    if val_accuracy > best_val_accuracy:\n",
    "        best_val_accuracy = val_accuracy\n",
    "        best_model = copy.deepcopy(model)\n",
    "        print(f\"best model accuracy: {best_val_accuracy:.4f}\")\n",
    "        epochs_no_improve = 0\n",
    "    else:\n",
    "        epochs_no_improve += 1\n",
    "\n",
    "    # Arrêt précoce si aucune amélioration\n",
    "    if epochs_no_improve == patience:\n",
    "        print(\"Arrêt précoce : La loss de validation ne s'améliore plus\")\n",
    "        break\n",
    "    print(f\"Epoch {epoch+1}, Loss: {total_loss / len(data_loader)}\")"
   ]
  },
  {
   "cell_type": "code",
   "execution_count": 6,
   "metadata": {},
   "outputs": [
    {
     "name": "stdout",
     "output_type": "stream",
     "text": [
      "Validation Accuracy : 0.9596\n",
      "Validation loss : 0.1541\n"
     ]
    }
   ],
   "source": [
    "loss, accuracy = evaluate_model(model, validation_data_loader, loss_function, device, morph_to_ix)\n",
    "print(f\"Validation Accuracy : {accuracy:.4f}\")\n",
    "print(f\"Validation loss : {loss:.4f}\")"
   ]
  },
  {
   "cell_type": "markdown",
   "metadata": {},
   "source": [
    "<h2> testing models"
   ]
  },
  {
   "cell_type": "code",
   "execution_count": 7,
   "metadata": {},
   "outputs": [],
   "source": [
    "sentences_test, morphs_test = load_data_preprocess(\"UD_French-Sequoia/fr_sequoia-ud-test.conllu\", char_to_ix, max_word_len)"
   ]
  },
  {
   "cell_type": "code",
   "execution_count": 8,
   "metadata": {},
   "outputs": [],
   "source": [
    "dataset_test = MORPHDataset(sentences_test, morphs_test, morph_to_ix, max_word_len,char_to_ix)\n",
    "data_loader_test = DataLoader(dataset_test, batch_size=batch_size, shuffle=True, collate_fn=collate_fn)"
   ]
  },
  {
   "cell_type": "code",
   "execution_count": 9,
   "metadata": {},
   "outputs": [
    {
     "name": "stdout",
     "output_type": "stream",
     "text": [
      "Validation Accuracy model: 0.9590\n",
      "Validation loss model: 0.1516\n"
     ]
    }
   ],
   "source": [
    "loss, accuracy = evaluate_model(model, data_loader_test, loss_function, device, morph_to_ix)\n",
    "print(f\"Test Accuracy model: {accuracy:.4f}\")\n",
    "print(f\"Test loss model: {loss:.4f}\")"
   ]
  },
  {
   "cell_type": "code",
   "execution_count": 10,
   "metadata": {},
   "outputs": [
    {
     "name": "stdout",
     "output_type": "stream",
     "text": [
      "Validation Accuracy best model: 0.9608\n",
      "Validation loss best model: 0.1474\n"
     ]
    }
   ],
   "source": [
    "loss, accuracy = evaluate_model(best_model, data_loader_test, loss_function, device, morph_to_ix)\n",
    "print(f\"Test best model: {accuracy:.4f}\")\n",
    "print(f\"Test loss best model: {loss:.4f}\")"
   ]
  }
 ],
 "metadata": {
  "kernelspec": {
   "display_name": "Python 3",
   "language": "python",
   "name": "python3"
  },
  "language_info": {
   "codemirror_mode": {
    "name": "ipython",
    "version": 3
   },
   "file_extension": ".py",
   "mimetype": "text/x-python",
   "name": "python",
   "nbconvert_exporter": "python",
   "pygments_lexer": "ipython3",
   "version": "3.11.7"
  }
 },
 "nbformat": 4,
 "nbformat_minor": 2
}
