{
 "cells": [
  {
   "cell_type": "code",
   "execution_count": 1,
   "metadata": {},
   "outputs": [],
   "source": [
    "from baseline_transformer_MORPH_conv import *\n",
    "import copy"
   ]
  },
  {
   "cell_type": "code",
   "execution_count": 2,
   "metadata": {},
   "outputs": [
    {
     "name": "stdout",
     "output_type": "stream",
     "text": [
      "False\n"
     ]
    }
   ],
   "source": [
    "device = torch.device(\"cuda\" if torch.cuda.is_available() else \"cpu\")\n",
    "print(torch.cuda.is_available())  # Renvoie True si un GPU est disponible\n",
    "\n",
    "batch_size=16\n",
    "epochs=10"
   ]
  },
  {
   "cell_type": "code",
   "execution_count": 3,
   "metadata": {},
   "outputs": [],
   "source": [
    "# Load data using the load_data_1 function\n",
    "sentences, morphs = load_data(\"UD_French-Sequoia/fr_sequoia-ud-train.conllu\")\n",
    "\n",
    "# Create character and tag mappings\n",
    "char_counts = Counter(char for sentence in sentences for word in sentence for char in word)\n",
    "char_to_ix = {char: i for i, char in enumerate(char_counts, start=2)}\n",
    "char_to_ix['<PAD>'], char_to_ix['<UNK>'] = 0, 1  # Padding and unknown character\n",
    "\n",
    "morph_counts = Counter(tag for tags in morphs for tag in tags)\n",
    "morph_to_ix = {tag: i for i, tag in enumerate(morph_counts)}\n",
    "\n",
    "max_word_len = max(len(word) for sentence in sentences for word in sentence)\n",
    "\n",
    "# Now load the data in the desired format using the load_data function\n",
    "train_sentences, train_morph = load_data_preprocess(\"UD_French-Sequoia/fr_sequoia-ud-train.conllu\", char_to_ix, max_word_len)\n",
    "validation_sentences, validation_morph = load_data_preprocess(\"UD_French-Sequoia/fr_sequoia-ud-dev.conllu\", char_to_ix, max_word_len)\n",
    "\n",
    "# Rest of your code for Dataset, DataLoader, Model initialization, etc.\n",
    "\n",
    "# Dataset and DataLoader\n",
    "dataset = MORPHDataset(train_sentences, train_morph, morph_to_ix, max_word_len,char_to_ix)\n",
    "data_loader = DataLoader(dataset, batch_size=batch_size, shuffle=True, collate_fn=collate_fn)\n",
    "\n",
    "validation_dataset = MORPHDataset(validation_sentences, validation_morph, morph_to_ix, max_word_len,char_to_ix)\n",
    "validation_data_loader = DataLoader(validation_dataset, batch_size=batch_size, shuffle=False, collate_fn=collate_fn)"
   ]
  },
  {
   "cell_type": "code",
   "execution_count": 4,
   "metadata": {},
   "outputs": [
    {
     "name": "stderr",
     "output_type": "stream",
     "text": [
      "C:\\Users\\Thomas\\AppData\\Local\\Packages\\PythonSoftwareFoundation.Python.3.11_qbz5n2kfra8p0\\LocalCache\\local-packages\\Python311\\site-packages\\torch\\nn\\modules\\transformer.py:282: UserWarning: enable_nested_tensor is True, but self.use_nested_tensor is False because encoder_layer.self_attn.batch_first was not True(use batch_first for better inference performance)\n",
      "  warnings.warn(f\"enable_nested_tensor is True, but self.use_nested_tensor is False because {why_not_sparsity_fast_path}\")\n"
     ]
    }
   ],
   "source": [
    "# Model initialization\n",
    "num_chars = len(char_to_ix)\n",
    "char_embedding_dim = 512\n",
    "num_filters = 512\n",
    "kernel_size = 20\n",
    "nhead = 4\n",
    "nhid = 1024\n",
    "nlayers = 3\n",
    "tagset_size = len(morph_to_ix)\n",
    "\n",
    "model = MorphTransformerModel(num_chars, char_embedding_dim, num_filters, kernel_size, nhead, nhid, nlayers, tagset_size)\n",
    "\n",
    "# Loss and Optimizer\n",
    "loss_function = nn.CrossEntropyLoss(ignore_index=-1)\n",
    "optimizer = optim.SGD(model.parameters(), lr=0.01, momentum=0.9)\n"
   ]
  },
  {
   "cell_type": "markdown",
   "metadata": {},
   "source": [
    "<h2> Training"
   ]
  },
  {
   "cell_type": "code",
   "execution_count": 5,
   "metadata": {},
   "outputs": [
    {
     "name": "stdout",
     "output_type": "stream",
     "text": [
      "Epoch 1, Validation Loss: 1.0005, Validation Accuracy: 0.7705\n",
      "best model accuracy: 0.7705\n",
      "Epoch 1, Loss: 1.4046227706330163\n",
      "Epoch 2, Validation Loss: 0.7952, Validation Accuracy: 0.8165\n",
      "best model accuracy: 0.8165\n",
      "Epoch 2, Loss: 0.8944095905338015\n",
      "Epoch 3, Validation Loss: 0.5909, Validation Accuracy: 0.8682\n",
      "best model accuracy: 0.8682\n",
      "Epoch 3, Loss: 0.722241191140243\n",
      "Epoch 4, Validation Loss: 0.3957, Validation Accuracy: 0.8946\n",
      "best model accuracy: 0.8946\n",
      "Epoch 4, Loss: 0.5145852686039039\n",
      "Epoch 5, Validation Loss: 0.2493, Validation Accuracy: 0.9384\n",
      "best model accuracy: 0.9384\n",
      "Epoch 5, Loss: 0.3314514181443623\n",
      "Epoch 6, Validation Loss: 0.2068, Validation Accuracy: 0.9490\n",
      "best model accuracy: 0.9490\n",
      "Epoch 6, Loss: 0.23966027455670494\n",
      "Epoch 7, Validation Loss: 0.1774, Validation Accuracy: 0.9565\n",
      "best model accuracy: 0.9565\n",
      "Epoch 7, Loss: 0.19342459738254547\n",
      "Epoch 8, Validation Loss: 0.1534, Validation Accuracy: 0.9611\n",
      "best model accuracy: 0.9611\n",
      "Epoch 8, Loss: 0.16256227690194333\n",
      "Epoch 9, Validation Loss: 0.1448, Validation Accuracy: 0.9627\n",
      "best model accuracy: 0.9627\n",
      "Epoch 9, Loss: 0.14161755445280244\n",
      "Epoch 10, Validation Loss: 0.1338, Validation Accuracy: 0.9669\n",
      "best model accuracy: 0.9669\n",
      "Epoch 10, Loss: 0.1279177148427282\n"
     ]
    }
   ],
   "source": [
    "patience = 5  # Nombre d'époques à attendre après la dernière amélioration de la loss de validation\n",
    "best_val_accuracy = 0\n",
    "epochs_no_improve = 0\n",
    "\n",
    "#Training\n",
    "for epoch in range(epochs): \n",
    "    model.train()\n",
    "    model.to(device)  # Déplacer le modèle sur le GPU si disponible\n",
    "    total_loss = 0\n",
    "    for sentence_in, targets in data_loader:\n",
    "        sentence_in, targets = sentence_in.to(device), targets.to(device)  # Déplacer les données sur le périphérique\n",
    "        optimizer.zero_grad()\n",
    "        tag_scores = model(sentence_in)\n",
    "        loss = loss_function(tag_scores.view(-1, len(morph_to_ix)), targets.view(-1))\n",
    "        loss.backward()\n",
    "        optimizer.step()\n",
    "        total_loss += loss.item()\n",
    "\n",
    "    # Utiliser la fonction modifiée pour évaluer la validation loss et l'accuracy\n",
    "    val_loss, val_accuracy = evaluate_model(model, validation_data_loader, loss_function,device, morph_to_ix)\n",
    "    print(f\"Epoch {epoch+1}, Validation Loss: {val_loss:.4f}, Validation Accuracy: {val_accuracy:.4f}\")\n",
    "    if val_accuracy > best_val_accuracy:\n",
    "        best_val_accuracy = val_accuracy\n",
    "        best_model = copy.deepcopy(model)\n",
    "        print(f\"best model accuracy: {best_val_accuracy:.4f}\")\n",
    "        epochs_no_improve = 0\n",
    "    else:\n",
    "        epochs_no_improve += 1\n",
    "\n",
    "    # Arrêt précoce si aucune amélioration\n",
    "    if epochs_no_improve == patience:\n",
    "        print(\"Arrêt précoce : La loss de validation ne s'améliore plus\")\n",
    "        break\n",
    "    print(f\"Epoch {epoch+1}, Loss: {total_loss / len(data_loader)}\")"
   ]
  },
  {
   "cell_type": "code",
   "execution_count": 6,
   "metadata": {},
   "outputs": [
    {
     "name": "stdout",
     "output_type": "stream",
     "text": [
      "Validation Accuracy : 0.9669\n",
      "Validation loss : 0.1338\n"
     ]
    }
   ],
   "source": [
    "loss, accuracy = evaluate_model(model, validation_data_loader, loss_function, device, morph_to_ix)\n",
    "print(f\"Validation Accuracy : {accuracy:.4f}\")\n",
    "print(f\"Validation loss : {loss:.4f}\")"
   ]
  },
  {
   "cell_type": "markdown",
   "metadata": {},
   "source": [
    "<h2> testing models"
   ]
  },
  {
   "cell_type": "code",
   "execution_count": 11,
   "metadata": {},
   "outputs": [],
   "source": [
    "sentences_test, morphs_test = load_data_preprocess(\"UD_French-Sequoia/fr_sequoia-ud-test.conllu\", char_to_ix, max_word_len)"
   ]
  },
  {
   "cell_type": "code",
   "execution_count": 12,
   "metadata": {},
   "outputs": [],
   "source": [
    "dataset_test = MORPHDataset(sentences_test, morphs_test, morph_to_ix, max_word_len,char_to_ix)\n",
    "data_loader_test = DataLoader(dataset_test, batch_size=batch_size, shuffle=True, collate_fn=collate_fn)"
   ]
  },
  {
   "cell_type": "code",
   "execution_count": 13,
   "metadata": {},
   "outputs": [],
   "source": [
    "loss, accuracy = evaluate_model(model, data_loader_test, loss_function, device, morph_to_ix)\n",
    "print(f\"Validation Accuracy model: {accuracy:.4f}\")\n",
    "print(f\"Validation loss model: {loss:.4f}\")"
   ]
  },
  {
   "cell_type": "code",
   "execution_count": null,
   "metadata": {},
   "outputs": [],
   "source": [
    "loss, accuracy = evaluate_model(best_model, data_loader_test, loss_function, device, morph_to_ix)\n",
    "print(f\"Validation Accuracy best model: {accuracy:.4f}\")\n",
    "print(f\"Validation loss best model: {loss:.4f}\")"
   ]
  }
 ],
 "metadata": {
  "kernelspec": {
   "display_name": "Python 3",
   "language": "python",
   "name": "python3"
  },
  "language_info": {
   "codemirror_mode": {
    "name": "ipython",
    "version": 3
   },
   "file_extension": ".py",
   "mimetype": "text/x-python",
   "name": "python",
   "nbconvert_exporter": "python",
   "pygments_lexer": "ipython3",
   "version": "3.11.6"
  }
 },
 "nbformat": 4,
 "nbformat_minor": 2
}
