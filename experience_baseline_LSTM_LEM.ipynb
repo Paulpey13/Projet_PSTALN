{
 "cells": [
  {
   "cell_type": "markdown",
   "metadata": {},
   "source": [
    "<h1> Pred lemma using LSTM"
   ]
  },
  {
   "cell_type": "code",
   "execution_count": 1,
   "metadata": {},
   "outputs": [],
   "source": [
    "from baseline_LSTM_LEM import *\n",
    "import copy"
   ]
  },
  {
   "cell_type": "code",
   "execution_count": 2,
   "metadata": {},
   "outputs": [],
   "source": [
    "#loading train data\n",
    "sentences, lemmas = load_data(\"UD_French-Sequoia/fr_sequoia-ud-train.conllu\")"
   ]
  },
  {
   "cell_type": "code",
   "execution_count": 3,
   "metadata": {},
   "outputs": [],
   "source": [
    "# Build vocabulary\n",
    "word_counts = Counter(word for sentence in sentences for word in sentence)\n",
    "word_to_ix = {word: i + 1 for i, word in enumerate(word_counts)}  # +1 for padding\n",
    "word_to_ix['<PAD>'] = 0\n",
    "word_to_ix['<OOV>'] = len(word_to_ix)\n",
    "\n",
    "lem_counts = Counter(lemma for lemma_list in lemmas for lemma in lemma_list)\n",
    "lem_to_ix = {lemma: i + 1 for i, lemma in enumerate(lem_counts)}\n",
    "lem_to_ix['<PAD>'] = 0"
   ]
  },
  {
   "cell_type": "code",
   "execution_count": 4,
   "metadata": {},
   "outputs": [],
   "source": [
    "# Model parameters\n",
    "embedding_dim = 64\n",
    "hidden_dim = 128\n",
    "lemmas_size = len(lem_to_ix)\n",
    "epochs = 10\n",
    "batch_size = 16"
   ]
  },
  {
   "cell_type": "code",
   "execution_count": 5,
   "metadata": {},
   "outputs": [],
   "source": [
    "# Create dataset and data loader\n",
    "dataset = LEMDataset(sentences, lemmas, word_to_ix, lem_to_ix)\n",
    "data_loader = DataLoader(dataset, batch_size=batch_size, shuffle=True, collate_fn=collate_fn)"
   ]
  },
  {
   "cell_type": "code",
   "execution_count": 6,
   "metadata": {},
   "outputs": [],
   "source": [
    "#define model, loss and optimizer\n",
    "model = LEM_Model(len(word_to_ix), embedding_dim, hidden_dim, len(lem_to_ix))\n",
    "loss_function = nn.CrossEntropyLoss(ignore_index=-1)\n",
    "optimizer = optim.SGD(model.parameters(), lr=0.01, momentum=0.9)"
   ]
  },
  {
   "cell_type": "markdown",
   "metadata": {},
   "source": [
    "<h2> Training model"
   ]
  },
  {
   "cell_type": "code",
   "execution_count": 7,
   "metadata": {},
   "outputs": [
    {
     "name": "stdout",
     "output_type": "stream",
     "text": [
      "Epoch 1, Loss: 3.885058442183903\n",
      "Epoch 2, Loss: 3.1491971484252383\n",
      "Epoch 3, Loss: 2.6922233036586216\n",
      "Epoch 4, Loss: 2.508681230885642\n",
      "Epoch 5, Loss: 2.3688194394111632\n",
      "Epoch 6, Loss: 2.248934635094234\n",
      "Epoch 7, Loss: 2.143789975132261\n",
      "Epoch 8, Loss: 2.104684180872781\n",
      "Epoch 9, Loss: 2.023559433221817\n",
      "Epoch 10, Loss: 1.9586449708257403\n"
     ]
    }
   ],
   "source": [
    "for epoch in range(epochs):\n",
    "    total_loss = 0\n",
    "    for sentence_in, targets in data_loader:\n",
    "        model.zero_grad()\n",
    "        lem_scores = model(sentence_in)\n",
    "        loss = loss_function(lem_scores.view(-1, len(lem_to_ix)), targets.view(-1))\n",
    "        loss.backward()\n",
    "        optimizer.step()\n",
    "        total_loss += loss.item()\n",
    "    print(f\"Epoch {epoch+1}, Loss: {total_loss / len(data_loader)}\")"
   ]
  },
  {
   "cell_type": "code",
   "execution_count": 8,
   "metadata": {},
   "outputs": [
    {
     "name": "stdout",
     "output_type": "stream",
     "text": [
      "Train Accuracy : 0.7752\n",
      "Train loss : 1.9662\n"
     ]
    }
   ],
   "source": [
    "loss, accuracy = evaluate_model(model, data_loader, loss_function, lem_to_ix)\n",
    "print(f\"Train Accuracy : {accuracy:.4f}\")\n",
    "print(f\"Train loss : {loss:.4f}\")"
   ]
  },
  {
   "cell_type": "markdown",
   "metadata": {},
   "source": [
    "<h2> Validation"
   ]
  },
  {
   "cell_type": "code",
   "execution_count": 9,
   "metadata": {},
   "outputs": [],
   "source": [
    "sentences_dev, lemmas_dev = load_data(\"UD_French-Sequoia/fr_sequoia-ud-dev.conllu\")"
   ]
  },
  {
   "cell_type": "code",
   "execution_count": 10,
   "metadata": {},
   "outputs": [],
   "source": [
    "dataset_dev = LEMDataset(sentences_dev, lemmas_dev, word_to_ix, lem_to_ix)\n",
    "data_loader_dev = DataLoader(dataset_dev, batch_size=batch_size, shuffle=True, collate_fn=collate_fn)"
   ]
  },
  {
   "cell_type": "code",
   "execution_count": 11,
   "metadata": {},
   "outputs": [
    {
     "name": "stdout",
     "output_type": "stream",
     "text": [
      "Validation Accuracy : 0.7854\n",
      "Validation loss : 1.9054\n"
     ]
    }
   ],
   "source": [
    "loss, accuracy = evaluate_model(model, data_loader_dev, loss_function, lem_to_ix)\n",
    "print(f\"Validation Accuracy : {accuracy:.4f}\")\n",
    "print(f\"Validation loss : {loss:.4f}\")"
   ]
  },
  {
   "cell_type": "markdown",
   "metadata": {},
   "source": [
    "<h2> Testing model"
   ]
  },
  {
   "cell_type": "code",
   "execution_count": 12,
   "metadata": {},
   "outputs": [],
   "source": [
    "sentences_test, lemmas_test = load_data(\"UD_French-Sequoia/fr_sequoia-ud-test.conllu\")"
   ]
  },
  {
   "cell_type": "code",
   "execution_count": 13,
   "metadata": {},
   "outputs": [],
   "source": [
    "dataset_test = LEMDataset(sentences_test, lemmas_test, word_to_ix, lem_to_ix)\n",
    "data_loader_test = DataLoader(dataset_test, batch_size=batch_size, shuffle=True, collate_fn=collate_fn)"
   ]
  },
  {
   "cell_type": "code",
   "execution_count": 14,
   "metadata": {},
   "outputs": [
    {
     "name": "stdout",
     "output_type": "stream",
     "text": [
      "Test Accuracy : 0.7955\n",
      "Test loss : 1.8335\n"
     ]
    }
   ],
   "source": [
    "loss, accuracy = evaluate_model(model, data_loader_test, loss_function, lem_to_ix)\n",
    "print(f\"Test Accuracy : {accuracy:.4f}\")\n",
    "print(f\"Test loss : {loss:.4f}\")"
   ]
  }
 ],
 "metadata": {
  "kernelspec": {
   "display_name": "Python 3",
   "language": "python",
   "name": "python3"
  },
  "language_info": {
   "codemirror_mode": {
    "name": "ipython",
    "version": 3
   },
   "file_extension": ".py",
   "mimetype": "text/x-python",
   "name": "python",
   "nbconvert_exporter": "python",
   "pygments_lexer": "ipython3",
   "version": "3.11.6"
  }
 },
 "nbformat": 4,
 "nbformat_minor": 2
}
