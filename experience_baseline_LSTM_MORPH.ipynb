{
 "cells": [
  {
   "cell_type": "markdown",
   "metadata": {},
   "source": [
    "<h1> Pred Morph using LSTM"
   ]
  },
  {
   "cell_type": "code",
   "execution_count": 1,
   "metadata": {},
   "outputs": [],
   "source": [
    "from baseline_LSTM_MORPH import *\n",
    "import copy"
   ]
  },
  {
   "cell_type": "code",
   "execution_count": 2,
   "metadata": {},
   "outputs": [],
   "source": [
    "# Load data\n",
    "sentences, morphs = load_data(\"UD_French-Sequoia/fr_sequoia-ud-train.conllu\")"
   ]
  },
  {
   "cell_type": "code",
   "execution_count": 3,
   "metadata": {},
   "outputs": [],
   "source": [
    "# Build vocabulary\n",
    "word_counts = Counter(word for sentence in sentences for word in sentence)\n",
    "word_to_ix = {word: i + 1 for i, word in enumerate(word_counts)}  # +1 for padding\n",
    "word_to_ix['<PAD>'] = 0\n",
    "\n",
    "morph_counts = set(trait for trait_list in morphs for trait in trait_list if trait != '_')\n",
    "morph_to_ix = {trait: i+1 for i, trait in enumerate(morph_counts)}\n",
    "morph_to_ix['_'] = 0"
   ]
  },
  {
   "cell_type": "code",
   "execution_count": 4,
   "metadata": {},
   "outputs": [],
   "source": [
    "# Model parameters\n",
    "embedding_dim = 64\n",
    "hidden_dim = 128\n",
    "morphs_size = len(morph_to_ix)\n",
    "epochs = 10\n",
    "batch_size = 16"
   ]
  },
  {
   "cell_type": "code",
   "execution_count": 5,
   "metadata": {},
   "outputs": [],
   "source": [
    "# Create dataset and data loader\n",
    "dataset = MORPHDataset(sentences, morphs, word_to_ix, morph_to_ix)\n",
    "data_loader = DataLoader(dataset, batch_size=batch_size, shuffle=True, collate_fn=collate_fn)"
   ]
  },
  {
   "cell_type": "code",
   "execution_count": 6,
   "metadata": {},
   "outputs": [],
   "source": [
    "model = MORPH_Model(len(word_to_ix), embedding_dim, hidden_dim, len(morph_to_ix))\n",
    "loss_function = nn.CrossEntropyLoss(ignore_index=-1)\n",
    "optimizer = optim.SGD(model.parameters(), lr=0.01, momentum=0.9)"
   ]
  },
  {
   "cell_type": "markdown",
   "metadata": {},
   "source": [
    "<h2> Training model"
   ]
  },
  {
   "cell_type": "code",
   "execution_count": 7,
   "metadata": {},
   "outputs": [
    {
     "name": "stdout",
     "output_type": "stream",
     "text": [
      "Epoch 1, Loss: 1.683001868213926\n",
      "Epoch 2, Loss: 1.220599662406104\n",
      "Epoch 3, Loss: 1.0896537946803229\n",
      "Epoch 4, Loss: 0.9844149155276162\n",
      "Epoch 5, Loss: 0.9252076351216861\n",
      "Epoch 6, Loss: 0.887850849543299\n",
      "Epoch 7, Loss: 0.8319853356906346\n",
      "Epoch 8, Loss: 0.8000874155334063\n",
      "Epoch 9, Loss: 0.7751765581113952\n",
      "Epoch 10, Loss: 0.7325477204152516\n"
     ]
    }
   ],
   "source": [
    "#Entrainement du modèle\n",
    "for epoch in range(epochs):\n",
    "    total_loss = 0\n",
    "    for batch in data_loader:\n",
    "        sentence_batch, morphs_batch = batch\n",
    "        model.zero_grad()\n",
    "        morph_scores = model(sentence_batch)\n",
    "        loss = loss_function(morph_scores.view(-1, len(morph_to_ix)), morphs_batch.view(-1))\n",
    "        loss.backward()\n",
    "        optimizer.step()\n",
    "        total_loss += loss.item()\n",
    "    print(f\"Epoch {epoch+1}, Loss: {total_loss / len(data_loader)}\")"
   ]
  },
  {
   "cell_type": "code",
   "execution_count": 8,
   "metadata": {},
   "outputs": [
    {
     "name": "stdout",
     "output_type": "stream",
     "text": [
      "Train Accuracy : 0.8424\n",
      "Train loss : 0.7206\n"
     ]
    }
   ],
   "source": [
    "loss, accuracy = evaluate_model(model, data_loader, loss_function, morph_to_ix)\n",
    "print(f\"Train Accuracy : {accuracy:.4f}\")\n",
    "print(f\"Train loss : {loss:.4f}\")"
   ]
  },
  {
   "cell_type": "markdown",
   "metadata": {},
   "source": [
    "<h2> Validation"
   ]
  },
  {
   "cell_type": "code",
   "execution_count": 9,
   "metadata": {},
   "outputs": [],
   "source": [
    "sentences_dev, morphs_dev = load_data(\"UD_French-Sequoia/fr_sequoia-ud-dev.conllu\")"
   ]
  },
  {
   "cell_type": "code",
   "execution_count": 10,
   "metadata": {},
   "outputs": [],
   "source": [
    "dataset_dev = MORPHDataset(sentences_dev, morphs_dev, word_to_ix, morph_to_ix)\n",
    "data_loader_dev = DataLoader(dataset_dev, batch_size=batch_size, shuffle=True, collate_fn=collate_fn)"
   ]
  },
  {
   "cell_type": "code",
   "execution_count": 11,
   "metadata": {},
   "outputs": [
    {
     "name": "stdout",
     "output_type": "stream",
     "text": [
      "Validation Accuracy : 0.8281\n",
      "Validation loss : 0.8735\n"
     ]
    }
   ],
   "source": [
    "loss, accuracy = evaluate_model(model, data_loader_dev, loss_function, morph_to_ix)\n",
    "print(f\"Validation Accuracy : {accuracy:.4f}\")\n",
    "print(f\"Validation loss : {loss:.4f}\")"
   ]
  },
  {
   "cell_type": "markdown",
   "metadata": {},
   "source": [
    "<h3> Testing model"
   ]
  },
  {
   "cell_type": "code",
   "execution_count": 12,
   "metadata": {},
   "outputs": [],
   "source": [
    "sentences_test, morphs_test = load_data(\"UD_French-Sequoia/fr_sequoia-ud-test.conllu\")"
   ]
  },
  {
   "cell_type": "code",
   "execution_count": 13,
   "metadata": {},
   "outputs": [],
   "source": [
    "dataset_test = MORPHDataset(sentences_test, morphs_test, word_to_ix, morph_to_ix)\n",
    "data_loader_test = DataLoader(dataset_test, batch_size=batch_size, shuffle=True, collate_fn=collate_fn)"
   ]
  },
  {
   "cell_type": "code",
   "execution_count": 14,
   "metadata": {},
   "outputs": [
    {
     "name": "stdout",
     "output_type": "stream",
     "text": [
      "Test Accuracy : 0.8453\n",
      "Test loss : 0.7650\n"
     ]
    }
   ],
   "source": [
    "loss, accuracy = evaluate_model(model, data_loader_test, loss_function, morph_to_ix)\n",
    "print(f\"Test Accuracy : {accuracy:.4f}\")\n",
    "print(f\"Test loss : {loss:.4f}\")"
   ]
  }
 ],
 "metadata": {
  "kernelspec": {
   "display_name": "Python 3",
   "language": "python",
   "name": "python3"
  },
  "language_info": {
   "codemirror_mode": {
    "name": "ipython",
    "version": 3
   },
   "file_extension": ".py",
   "mimetype": "text/x-python",
   "name": "python",
   "nbconvert_exporter": "python",
   "pygments_lexer": "ipython3",
   "version": "3.11.6"
  }
 },
 "nbformat": 4,
 "nbformat_minor": 2
}
