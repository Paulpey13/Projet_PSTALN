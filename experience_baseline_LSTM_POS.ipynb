{
 "cells": [
  {
   "cell_type": "code",
   "execution_count": null,
   "metadata": {},
   "outputs": [],
   "source": [
    "from baseline_LSTM_POS import *\n",
    "import copy"
   ]
  },
  {
   "cell_type": "code",
   "execution_count": null,
   "metadata": {},
   "outputs": [],
   "source": [
    "sentences, pos_tags = load_data(\"UD_French-Sequoia/fr_sequoia-ud-train.conllu\")"
   ]
  },
  {
   "cell_type": "code",
   "execution_count": null,
   "metadata": {},
   "outputs": [],
   "source": [
    "word_counts = Counter(word for sentence in sentences for word in sentence)\n",
    "word_to_ix = {word: i+1 for i, word in enumerate(word_counts)}  # +1 pour le padding\n",
    "word_to_ix['<PAD>'] = 0\n",
    "word_to_ix['<OOV>'] = len(word_to_ix)\n",
    "\n",
    "tag_counts = Counter(tag for tags in pos_tags for tag in tags)\n",
    "tag_to_ix = {tag: i for i, tag in enumerate(tag_counts)}"
   ]
  },
  {
   "cell_type": "code",
   "execution_count": null,
   "metadata": {},
   "outputs": [],
   "source": [
    "embedding_dim = 64\n",
    "hidden_dim = 128\n",
    "epochs=50\n",
    "batch_size=16"
   ]
  },
  {
   "cell_type": "code",
   "execution_count": null,
   "metadata": {},
   "outputs": [],
   "source": [
    "dataset = POSDataset(sentences, pos_tags, word_to_ix, tag_to_ix)\n",
    "data_loader = DataLoader(dataset, batch_size=batch_size, shuffle=True, collate_fn=collate_fn)\n",
    "\n",
    "model = POSModel(len(word_to_ix), embedding_dim, hidden_dim, len(tag_to_ix))\n",
    "loss_function = nn.CrossEntropyLoss(ignore_index=-1)\n",
    "optimizer = optim.SGD(model.parameters(), lr=0.01, momentum=0.9)"
   ]
  },
  {
   "cell_type": "markdown",
   "metadata": {},
   "source": [
    "<h2> Training"
   ]
  },
  {
   "cell_type": "code",
   "execution_count": null,
   "metadata": {},
   "outputs": [],
   "source": [
    "for epoch in range(epochs):\n",
    "    total_loss = 0\n",
    "    for sentence_in, targets in data_loader:\n",
    "        model.zero_grad()\n",
    "        tag_scores = model(sentence_in)\n",
    "        loss = loss_function(tag_scores.view(-1, len(tag_to_ix)), targets.view(-1))\n",
    "        loss.backward()\n",
    "        optimizer.step()\n",
    "        total_loss += loss.item()\n",
    "    print(f\"Epoch {epoch+1}, Loss: {total_loss / len(data_loader)}\")"
   ]
  },
  {
   "cell_type": "code",
   "execution_count": null,
   "metadata": {},
   "outputs": [],
   "source": [
    "loss, accuracy, precision, recall, f1 = evaluate_model(model, data_loader, loss_function, tag_to_ix)\n",
    "print(f\"Train Accuracy : {accuracy:.4f}\")\n",
    "print(f\"Train loss : {loss:.4f}\")\n",
    "print(f\"Train precision : {precision:.4f}\")\n",
    "print(f\"Train recall : {recall:.4f}\")\n",
    "print(f\"Train F1 score : {f1:.4f}\")"
   ]
  },
  {
   "cell_type": "markdown",
   "metadata": {},
   "source": [
    "<h2> Testing"
   ]
  },
  {
   "cell_type": "code",
   "execution_count": null,
   "metadata": {},
   "outputs": [],
   "source": [
    "test_sentences, test_pos_tags = load_data(\"UD_French-Sequoia/fr_sequoia-ud-test.conllu\")\n",
    "test_dataset = POSDataset(test_sentences, test_pos_tags, word_to_ix, tag_to_ix)\n",
    "test_data_loader = DataLoader(test_dataset, batch_size=batch_size, shuffle=False, collate_fn=collate_fn)"
   ]
  },
  {
   "cell_type": "code",
   "execution_count": null,
   "metadata": {},
   "outputs": [],
   "source": [
    "loss, accuracy, precision, recall, f1 = evaluate_model(model, test_data_loader, loss_function, tag_to_ix)\n",
    "print(f\"Test Accuracy : {accuracy:.4f}\")\n",
    "print(f\"Test loss : {loss:.4f}\")\n",
    "print(f\"Test precision : {precision:.4f}\")\n",
    "print(f\"Test recall : {recall:.4f}\")\n",
    "print(f\"Test F1 score : {f1:.4f}\")"
   ]
  }
 ],
 "metadata": {
  "kernelspec": {
   "display_name": "Python 3",
   "language": "python",
   "name": "python3"
  },
  "language_info": {
   "codemirror_mode": {
    "name": "ipython",
    "version": 3
   },
   "file_extension": ".py",
   "mimetype": "text/x-python",
   "name": "python",
   "nbconvert_exporter": "python",
   "pygments_lexer": "ipython3",
   "version": "3.11.6"
  }
 },
 "nbformat": 4,
 "nbformat_minor": 2
}
