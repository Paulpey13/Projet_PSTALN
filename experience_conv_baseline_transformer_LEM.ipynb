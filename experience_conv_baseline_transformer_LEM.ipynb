{
 "cells": [
  {
   "cell_type": "code",
   "execution_count": null,
   "metadata": {},
   "outputs": [],
   "source": [
    "from baseline_transformer_LEM_conv import *\n",
    "import copy"
   ]
  },
  {
   "cell_type": "code",
   "execution_count": null,
   "metadata": {},
   "outputs": [],
   "source": [
    "device = torch.device(\"cuda\" if torch.cuda.is_available() else \"cpu\")\n",
    "print(torch.cuda.is_available())  # Renvoie True si un GPU est disponible\n",
    "\n",
    "batch_size=16\n",
    "epochs=300"
   ]
  },
  {
   "cell_type": "code",
   "execution_count": null,
   "metadata": {},
   "outputs": [],
   "source": [
    "# Load data using the load_data_1 function\n",
    "sentences, lemmas = load_data(\"UD_French-Sequoia/fr_sequoia-ud-train.conllu\")\n",
    "\n",
    "# Create character and tag mappings\n",
    "char_counts = Counter(char for sentence in sentences for word in sentence for char in word)\n",
    "char_to_ix = {char: i for i, char in enumerate(char_counts, start=2)}\n",
    "char_to_ix['<PAD>'], char_to_ix['<UNK>'] = 0, 1  # Padding and unknown character\n",
    "\n",
    "lemma_counts = Counter(lemma for lemma_list in lemmas for lemma in lemma_list)\n",
    "lemma_to_ix = {lemma: i+1 for i, lemma in enumerate(lemma_counts)}  #+1 pour le padding\n",
    "lemma_to_ix['<PAD>'] = 0\n",
    "\n",
    "max_word_len = max(len(word) for sentence in sentences for word in sentence)\n",
    "\n",
    "# Now load the data in the desired format using the load_data function\n",
    "train_sentences, train_lem = load_data_preprocess(\"UD_French-Sequoia/fr_sequoia-ud-train.conllu\", char_to_ix, max_word_len)\n",
    "validation_sentences, validation_lem = load_data_preprocess(\"UD_French-Sequoia/fr_sequoia-ud-dev.conllu\", char_to_ix, max_word_len)\n",
    "\n",
    "# Rest of your code for Dataset, DataLoader, Model initialization, etc.\n",
    "\n",
    "# Dataset and DataLoader\n",
    "dataset = LEMDataset(train_sentences, train_lem, lemma_to_ix, max_word_len,char_to_ix)\n",
    "data_loader = DataLoader(dataset, batch_size=batch_size, shuffle=True, collate_fn=collate_fn)\n",
    "\n",
    "validation_dataset = LEMDataset(validation_sentences, validation_lem, lemma_to_ix, max_word_len,char_to_ix)\n",
    "validation_data_loader = DataLoader(validation_dataset, batch_size=batch_size, shuffle=False, collate_fn=collate_fn)"
   ]
  },
  {
   "cell_type": "code",
   "execution_count": null,
   "metadata": {},
   "outputs": [],
   "source": [
    "# Model initialization\n",
    "num_chars = len(char_to_ix)\n",
    "char_embedding_dim = 512\n",
    "num_filters = 1024\n",
    "kernel_size = 6\n",
    "nhead = 2\n",
    "nhid = 1024\n",
    "nlayers = 1\n",
    "tagset_size = len(lemma_to_ix)\n",
    "\n",
    "model = LEMTransformerModel(num_chars, char_embedding_dim, num_filters, kernel_size, nhead, nhid, nlayers, tagset_size)\n",
    "\n",
    "# Loss and Optimizer\n",
    "loss_function = nn.CrossEntropyLoss(ignore_index=-1)\n",
    "optimizer = optim.SGD(model.parameters(), lr=0.01, momentum=0.9)\n"
   ]
  },
  {
   "cell_type": "markdown",
   "metadata": {},
   "source": [
    "<h2> Training"
   ]
  },
  {
   "cell_type": "code",
   "execution_count": null,
   "metadata": {},
   "outputs": [],
   "source": [
    "patience = 20  # Nombre d'époques à attendre après la dernière amélioration de la loss de validation\n",
    "best_val_accuracy = 0\n",
    "epochs_no_improve = 0\n",
    "\n",
    "#Training\n",
    "for epoch in range(epochs): \n",
    "    model.train()\n",
    "    model.to(device)  # Déplacer le modèle sur le GPU si disponible\n",
    "    total_loss = 0\n",
    "    for sentence_in, targets in data_loader:\n",
    "        sentence_in, targets = sentence_in.to(device), targets.to(device)  # Déplacer les données sur le périphérique\n",
    "        optimizer.zero_grad()\n",
    "        tag_scores = model(sentence_in)\n",
    "        loss = loss_function(tag_scores.view(-1, len(lemma_to_ix)), targets.view(-1))\n",
    "        loss.backward()\n",
    "        optimizer.step()\n",
    "        total_loss += loss.item()\n",
    "\n",
    "    # Utiliser la fonction modifiée pour évaluer la validation loss et l'accuracy\n",
    "    val_loss, val_accuracy, f1 = evaluate_model(model, validation_data_loader, loss_function,device, lemma_to_ix)\n",
    "    print(f\"Epoch {epoch+1}, Validation Loss: {val_loss:.4f}, Validation Accuracy: {val_accuracy:.4f}, f1_score: {f1:.4f}\")\n",
    "    if val_accuracy > best_val_accuracy:\n",
    "        best_val_accuracy = val_accuracy\n",
    "        best_model = copy.deepcopy(model)\n",
    "        print(f\"best model accuracy: {best_val_accuracy:.4f}\")\n",
    "        epochs_no_improve = 0\n",
    "    else:\n",
    "        epochs_no_improve += 1\n",
    "\n",
    "    # Arrêt précoce si aucune amélioration\n",
    "    if epochs_no_improve == patience:\n",
    "        print(\"Arrêt précoce : La loss de validation ne s'améliore plus\")\n",
    "        break\n",
    "    print(f\"Epoch {epoch+1}, Loss: {total_loss / len(data_loader)}\")"
   ]
  },
  {
   "cell_type": "code",
   "execution_count": null,
   "metadata": {},
   "outputs": [],
   "source": [
    "loss, accuracy, f1  = evaluate_model(best_model, data_loader, loss_function, device, lemma_to_ix)\n",
    "print(f\"Train Accuracy : {accuracy:.4f}\")\n",
    "print(f\"Train loss : {loss:.4f}\")\n",
    "print(f\"Train F1 score : {f1:.4f}\")"
   ]
  },
  {
   "cell_type": "markdown",
   "metadata": {},
   "source": [
    "<h2> Testing"
   ]
  },
  {
   "cell_type": "code",
   "execution_count": null,
   "metadata": {},
   "outputs": [],
   "source": [
    "sentences_test, lem_test = load_data_preprocess(\"UD_French-Sequoia/fr_sequoia-ud-test.conllu\", char_to_ix, max_word_len)"
   ]
  },
  {
   "cell_type": "code",
   "execution_count": null,
   "metadata": {},
   "outputs": [],
   "source": [
    "dataset_test = LEMDataset(sentences_test, lem_test, lemma_to_ix, max_word_len,char_to_ix)\n",
    "data_loader_test = DataLoader(dataset_test, batch_size=batch_size, shuffle=True, collate_fn=collate_fn)"
   ]
  },
  {
   "cell_type": "code",
   "execution_count": null,
   "metadata": {},
   "outputs": [],
   "source": [
    "loss, accuracy, f1 = evaluate_model(model, data_loader_test, loss_function, device, lemma_to_ix)\n",
    "print(f\"Test Accuracy base model: {accuracy:.4f}\")\n",
    "print(f\"Test loss base model: {loss:.4f}\")\n",
    "print(f\"Test F1 score base model: {f1:.4f}\")"
   ]
  },
  {
   "cell_type": "code",
   "execution_count": null,
   "metadata": {},
   "outputs": [],
   "source": [
    "loss, accuracy, f1 = evaluate_model(best_model, data_loader_test, loss_function, device, lemma_to_ix)\n",
    "print(f\"Test Accuracy best model: {accuracy:.4f}\")\n",
    "print(f\"Test loss best model: {loss:.4f}\")\n",
    "print(f\"Test F1 score best model: {f1:.4f}\")"
   ]
  }
 ],
 "metadata": {
  "kernelspec": {
   "display_name": "Python 3",
   "language": "python",
   "name": "python3"
  },
  "language_info": {
   "codemirror_mode": {
    "name": "ipython",
    "version": 3
   },
   "file_extension": ".py",
   "mimetype": "text/x-python",
   "name": "python",
   "nbconvert_exporter": "python",
   "pygments_lexer": "ipython3",
   "version": "3.11.6"
  }
 },
 "nbformat": 4,
 "nbformat_minor": 2
}
