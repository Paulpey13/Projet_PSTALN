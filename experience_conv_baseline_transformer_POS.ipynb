{
 "cells": [
  {
   "cell_type": "code",
   "execution_count": 1,
   "metadata": {},
   "outputs": [],
   "source": [
    "from baseline_transformer_POS_conv import *\n",
    "import copy"
   ]
  },
  {
   "cell_type": "code",
   "execution_count": 2,
   "metadata": {},
   "outputs": [
    {
     "name": "stdout",
     "output_type": "stream",
     "text": [
      "True\n"
     ]
    }
   ],
   "source": [
    "device = torch.device(\"cuda\" if torch.cuda.is_available() else \"cpu\")\n",
    "print(torch.cuda.is_available())  # Renvoie True si un GPU est disponible\n",
    "\n",
    "batch_size=16\n",
    "epochs=300"
   ]
  },
  {
   "cell_type": "code",
   "execution_count": 3,
   "metadata": {},
   "outputs": [
    {
     "name": "stdout",
     "output_type": "stream",
     "text": [
      "{'g': 2, 'u': 3, 't': 4, 'e': 5, 'n': 6, 'b': 7, 'r': 8, 'c': 9, 'x': 10, 'p': 11, 'o': 12, 's': 13, 'i': 14, 'a': 15, 'd': 16, 'q': 17, 'è': 18, 'l': 19, ',': 20, 'à': 21, 'm': 22, '-': 23, 'é': 24, '.': 25, 'f': 26, 'v': 27, \"'\": 28, 'j': 29, 'h': 30, '1': 31, '9': 32, '5': 33, '3': 34, 'z': 35, '2': 36, '?': 37, '\"': 38, 'ê': 39, 'y': 40, 'ù': 41, 'â': 42, '7': 43, '6': 44, 'û': 45, '0': 46, '4': 47, '%': 48, ';': 49, '8': 50, 'ô': 51, ':': 52, 'k': 53, 'î': 54, 'ç': 55, '!': 56, '(': 57, ')': 58, '/': 59, '°': 60, 'ë': 61, 'w': 62, '=': 63, ' ': 64, '©': 65, '+': 66, '<': 67, '½': 68, 'ä': 69, 'ß': 70, 'ï': 71, '[': 72, ']': 73, '±': 74, 'ö': 75, 'ó': 76, 'á': 77, '&': 78, '^': 79, '$': 80, '<PAD>': 0, '<UNK>': 1}\n",
      "26\n"
     ]
    }
   ],
   "source": [
    "# Load data using the load_data_1 function\n",
    "sentences, pos_tags = load_data_1(\"UD_French-Sequoia/fr_sequoia-ud-train.conllu\")\n",
    "\n",
    "# Create character and tag mappings\n",
    "char_counts = Counter(char for sentence in sentences for word in sentence for char in word)\n",
    "char_to_ix = {char: i for i, char in enumerate(char_counts, start=2)}\n",
    "char_to_ix['<PAD>'], char_to_ix['<UNK>'] = 0, 1  # Padding and unknown character\n",
    "\n",
    "print(char_to_ix)\n",
    "tag_counts = Counter(tag for tags in pos_tags for tag in tags)\n",
    "tag_to_ix = {tag: i for i, tag in enumerate(tag_counts)}\n",
    "max_word_len = max(len(word) for sentence in sentences for word in sentence)\n",
    "print(max_word_len)\n",
    "# Now load the data in the desired format using the load_data function\n",
    "train_sentences, train_pos_tags = load_data(\"UD_French-Sequoia/fr_sequoia-ud-train.conllu\", char_to_ix, max_word_len)\n",
    "validation_sentences, validation_pos_tags = load_data(\"UD_French-Sequoia/fr_sequoia-ud-dev.conllu\", char_to_ix, max_word_len)\n",
    "\n",
    "# Rest of your code for Dataset, DataLoader, Model initialization, etc.\n",
    "\n",
    "# Dataset and DataLoader\n",
    "dataset = POSDataset(train_sentences, train_pos_tags, tag_to_ix, max_word_len,char_to_ix)\n",
    "data_loader = DataLoader(dataset, batch_size=batch_size, shuffle=True, collate_fn=collate_fn)\n",
    "\n",
    "validation_dataset = POSDataset(validation_sentences, validation_pos_tags, tag_to_ix, max_word_len,char_to_ix)\n",
    "validation_data_loader = DataLoader(validation_dataset, batch_size=batch_size, shuffle=False, collate_fn=collate_fn)\n"
   ]
  },
  {
   "cell_type": "code",
   "execution_count": 4,
   "metadata": {},
   "outputs": [
    {
     "name": "stderr",
     "output_type": "stream",
     "text": [
      "C:\\Users\\victo\\AppData\\Local\\Packages\\PythonSoftwareFoundation.Python.3.11_qbz5n2kfra8p0\\LocalCache\\local-packages\\Python311\\site-packages\\torch\\nn\\modules\\transformer.py:282: UserWarning: enable_nested_tensor is True, but self.use_nested_tensor is False because encoder_layer.self_attn.batch_first was not True(use batch_first for better inference performance)\n",
      "  warnings.warn(f\"enable_nested_tensor is True, but self.use_nested_tensor is False because {why_not_sparsity_fast_path}\")\n",
      "C:\\Users\\victo\\AppData\\Local\\Packages\\PythonSoftwareFoundation.Python.3.11_qbz5n2kfra8p0\\LocalCache\\local-packages\\Python311\\site-packages\\tqdm\\auto.py:21: TqdmWarning: IProgress not found. Please update jupyter and ipywidgets. See https://ipywidgets.readthedocs.io/en/stable/user_install.html\n",
      "  from .autonotebook import tqdm as notebook_tqdm\n"
     ]
    }
   ],
   "source": [
    "\n",
    "# Model initialization\n",
    "num_chars = len(char_to_ix)\n",
    "char_embedding_dim = 512\n",
    "num_filters = 1024\n",
    "kernel_size = 6\n",
    "nhead = 2\n",
    "nhid = 512\n",
    "nlayers = 1\n",
    "tagset_size = len(tag_to_ix)\n",
    "\n",
    "model = POSTransformerModel(num_chars, char_embedding_dim, num_filters, kernel_size, nhead, nhid, nlayers, tagset_size)\n",
    "\n",
    "# Loss and Optimizer\n",
    "loss_function = nn.CrossEntropyLoss(ignore_index=-1)\n",
    "optimizer = optim.SGD(model.parameters(), lr=0.001)\n",
    "\n",
    "\n",
    "loss_function = nn.CrossEntropyLoss(ignore_index=-1)\n",
    "optimizer = optim.Adam(model.parameters(), lr=0.0001)\n",
    "\n",
    "\n"
   ]
  },
  {
   "cell_type": "code",
   "execution_count": 5,
   "metadata": {},
   "outputs": [
    {
     "name": "stdout",
     "output_type": "stream",
     "text": [
      "0.6982990025323578\n",
      "Epoch 1, Validation Loss: 0.4082, Validation Accuracy: 0.8663\n",
      "best model accuracy: 0.8663\n",
      "Epoch 1, Loss: 0.7685504098023687\n",
      "0.7529949540655732\n",
      "Epoch 2, Validation Loss: 0.2896, Validation Accuracy: 0.9147\n",
      "best model accuracy: 0.9147\n",
      "Epoch 2, Loss: 0.3712108508816787\n",
      "0.7577216670388419\n",
      "Epoch 3, Validation Loss: 0.2569, Validation Accuracy: 0.9208\n",
      "best model accuracy: 0.9208\n",
      "Epoch 3, Loss: 0.28407756920371735\n",
      "0.7694892546108963\n",
      "Epoch 4, Validation Loss: 0.2368, Validation Accuracy: 0.9297\n",
      "best model accuracy: 0.9297\n",
      "Epoch 4, Loss: 0.2471505442900317\n",
      "0.8182936151649853\n",
      "Epoch 5, Validation Loss: 0.2263, Validation Accuracy: 0.9351\n",
      "best model accuracy: 0.9351\n",
      "Epoch 5, Loss: 0.21439415918929236\n"
     ]
    }
   ],
   "source": [
    "\n",
    "patience = 20  # Nombre d'époques à attendre après la dernière amélioration de la loss de validation\n",
    "best_val_accuracy = 0\n",
    "epochs_no_improve = 0\n",
    "\n",
    "#Training\n",
    "epochs=5\n",
    "for epoch in range(epochs): \n",
    "    model.train()\n",
    "    model.to(device)  # Déplacer le modèle sur le GPU si disponible\n",
    "    total_loss = 0\n",
    "    for sentence_in, targets in data_loader:\n",
    "        sentence_in, targets = sentence_in.to(device), targets.to(device)  # Déplacer les données sur le périphérique\n",
    "        optimizer.zero_grad()\n",
    "        tag_scores = model(sentence_in)\n",
    "        loss = loss_function(tag_scores.view(-1, len(tag_to_ix)), targets.view(-1))\n",
    "        loss.backward()\n",
    "        optimizer.step()\n",
    "        total_loss += loss.item()\n",
    "\n",
    "    # Utiliser la fonction modifiée pour évaluer la validation loss et l'accuracy\n",
    "    val_loss, val_accuracy,_,_,_ = evaluate_model(model, validation_data_loader, loss_function,device, tag_to_ix)\n",
    "    print(f\"Epoch {epoch+1}, Validation Loss: {val_loss:.4f}, Validation Accuracy: {val_accuracy:.4f}\")\n",
    "    if val_accuracy > best_val_accuracy:\n",
    "        best_val_accuracy = val_accuracy\n",
    "        best_model = copy.deepcopy(model)\n",
    "        print(f\"best model accuracy: {best_val_accuracy:.4f}\")\n",
    "        epochs_no_improve = 0\n",
    "    else:\n",
    "        epochs_no_improve += 1\n",
    "\n",
    "    # Arrêt précoce si aucune amélioration\n",
    "    if epochs_no_improve == patience:\n",
    "        print(\"Arrêt précoce : La loss de validation ne s'améliore plus\")\n",
    "        break\n",
    "    print(f\"Epoch {epoch+1}, Loss: {total_loss / len(data_loader)}\")\n"
   ]
  },
  {
   "cell_type": "code",
   "execution_count": 6,
   "metadata": {},
   "outputs": [
    {
     "name": "stdout",
     "output_type": "stream",
     "text": [
      "Sentence: gutenberg\n",
      "Predicted POS Tags: ['PROPN']\n",
      "Vraies étiquettes POS: ['PROPN']\n",
      "0.8268819478202635\n",
      "Test Accuracy : 0.9328\n",
      "Test loss : 0.2399\n",
      "Test precision : 0.9959\n",
      "Test recall : 0.9891\n",
      "Test F1 score : 0.9925\n"
     ]
    }
   ],
   "source": [
    "model.eval()\n",
    "with torch.no_grad():\n",
    "    # Convert the first sentence in the dataset to character indices\n",
    "    char_indices = [[char_to_ix.get(char, char_to_ix['<UNK>']) for char in word] for word in sentences[0]]\n",
    "    char_indices = [word[:max_word_len] + [char_to_ix['<PAD>']] * (max_word_len - len(word)) for word in char_indices]\n",
    "\n",
    "    # Convert to tensor and add batch dimension\n",
    "    inputs = torch.tensor(char_indices, dtype=torch.long).unsqueeze(0).to(device)\n",
    "\n",
    "    # Get tag scores from the model\n",
    "    tag_scores = model(inputs)\n",
    "    predicted_tags = [list(tag_to_ix.keys())[tag] for tag in tag_scores[0].argmax(dim=1).cpu()]\n",
    "    \n",
    "    print(f\"Sentence: {' '.join(sentences[0])}\")\n",
    "    print(f\"Predicted POS Tags: {predicted_tags}\")\n",
    "    true_tags = [tag for tag in pos_tags[0]]\n",
    "    print(f\"Vraies étiquettes POS: {true_tags}\")\n",
    "\n",
    "\n",
    "\n",
    "test_sentences, test_pos_tags = load_data(\"UD_French-Sequoia/fr_sequoia-ud-test.conllu\", char_to_ix, max_word_len)\n",
    "\n",
    "\n",
    "test_dataset = POSDataset(test_sentences, test_pos_tags, tag_to_ix, max_word_len,char_to_ix)\n",
    "test_data_loader = DataLoader(test_dataset, batch_size=batch_size, shuffle=False, collate_fn=collate_fn)\n",
    "\n",
    "\n",
    "# Calculer l'accuracy\n",
    "loss, accuracy, precision, recall, f1 = evaluate_model(model,test_data_loader,loss_function,device,tag_to_ix)\n",
    "print(f\"Test Accuracy : {accuracy:.4f}\")\n",
    "print(f\"Test loss : {loss:.4f}\")\n",
    "print(f\"Test precision : {precision:.4f}\")\n",
    "print(f\"Test recall : {recall:.4f}\")\n",
    "print(f\"Test F1 score : {f1:.4f}\")"
   ]
  },
  {
   "cell_type": "code",
   "execution_count": 7,
   "metadata": {},
   "outputs": [
    {
     "name": "stdout",
     "output_type": "stream",
     "text": [
      "Sentence: gutenberg\n",
      "Predicted POS Tags: ['PROPN']\n",
      "Vraies étiquettes POS: ['PROPN']\n",
      "0.8268819478202635\n",
      "Test Accuracy : 0.9328\n",
      "Test loss : 0.2399\n",
      "Test precision : 0.9959\n",
      "Test recall : 0.9891\n",
      "Test F1 score : 0.9925\n"
     ]
    }
   ],
   "source": [
    "best_model.eval()\n",
    "with torch.no_grad():\n",
    "    # Convert the first sentence in the dataset to character indices\n",
    "    char_indices = [[char_to_ix.get(char, char_to_ix['<UNK>']) for char in word] for word in sentences[0]]\n",
    "    char_indices = [word[:max_word_len] + [char_to_ix['<PAD>']] * (max_word_len - len(word)) for word in char_indices]\n",
    "\n",
    "    # Convert to tensor and add batch dimension\n",
    "    inputs = torch.tensor(char_indices, dtype=torch.long).unsqueeze(0).to(device)\n",
    "\n",
    "    # Get tag scores from the model\n",
    "    tag_scores = best_model(inputs)\n",
    "    predicted_tags = [list(tag_to_ix.keys())[tag] for tag in tag_scores[0].argmax(dim=1).cpu()]\n",
    "    \n",
    "    print(f\"Sentence: {' '.join(sentences[0])}\")\n",
    "    print(f\"Predicted POS Tags: {predicted_tags}\")\n",
    "    true_tags = [tag for tag in pos_tags[0]]\n",
    "    print(f\"Vraies étiquettes POS: {true_tags}\")\n",
    "\n",
    "\n",
    "\n",
    "test_sentences, test_pos_tags = load_data(\"UD_French-Sequoia/fr_sequoia-ud-test.conllu\", char_to_ix, max_word_len)\n",
    "\n",
    "\n",
    "test_dataset = POSDataset(test_sentences, test_pos_tags, tag_to_ix, max_word_len,char_to_ix)\n",
    "test_data_loader = DataLoader(test_dataset, batch_size=batch_size, shuffle=False, collate_fn=collate_fn)\n",
    "\n",
    "\n",
    "# Calculer l'accuracy\n",
    "loss, accuracy, precision, recall, f1 = evaluate_model(best_model,test_data_loader,loss_function,device,tag_to_ix)\n",
    "print(f\"Test Accuracy : {accuracy:.4f}\")\n",
    "print(f\"Test loss : {loss:.4f}\")\n",
    "print(f\"Test precision : {precision:.4f}\")\n",
    "print(f\"Test recall : {recall:.4f}\")\n",
    "print(f\"Test F1 score : {f1:.4f}\")"
   ]
  },
  {
   "cell_type": "code",
   "execution_count": 8,
   "metadata": {},
   "outputs": [
    {
     "name": "stdout",
     "output_type": "stream",
     "text": [
      "Sentence: gutenberg\n",
      "Predicted POS Tags: ['PROPN']\n",
      "Vraies étiquettes POS: ['PROPN']\n",
      "0.8374771729428625\n",
      "Train Accuracy : 0.9523\n",
      "Train loss : 0.1562\n",
      "Train precision : 0.9984\n",
      "Train recall : 0.9938\n",
      "Train F1 score : 0.9961\n"
     ]
    }
   ],
   "source": [
    "\n",
    "best_model.eval()\n",
    "with torch.no_grad():\n",
    "    char_indices = [[char_to_ix.get(char, char_to_ix['<UNK>']) for char in word] for word in sentences[0]]\n",
    "    char_indices = [word[:max_word_len] + [char_to_ix['<PAD>']] * (max_word_len - len(word)) for word in char_indices]\n",
    "    inputs = torch.tensor(char_indices, dtype=torch.long).unsqueeze(0).to(device)\n",
    "    tag_scores = best_model(inputs)\n",
    "    predicted_tags = [list(tag_to_ix.keys())[tag] for tag in tag_scores[0].argmax(dim=1).cpu()]\n",
    "    print(f\"Sentence: {' '.join(sentences[0])}\")\n",
    "    print(f\"Predicted POS Tags: {predicted_tags}\")\n",
    "    true_tags = [tag for tag in pos_tags[0]]\n",
    "    print(f\"Vraies étiquettes POS: {true_tags}\")\n",
    "\n",
    "# Évaluation sur l'ensemble de test\n",
    "test_sentences, test_pos_tags = load_data(\"UD_French-Sequoia/fr_sequoia-ud-test.conllu\", char_to_ix, max_word_len)\n",
    "test_dataset = POSDataset(test_sentences, test_pos_tags, tag_to_ix, max_word_len, char_to_ix)\n",
    "test_data_loader = DataLoader(test_dataset, batch_size=batch_size, shuffle=False, collate_fn=collate_fn)\n",
    "\n",
    "# Calculer l'accuracy sur l'ensemble de test\n",
    "loss, accuracy, precision, recall, f1 = evaluate_model(best_model, data_loader, loss_function, device, tag_to_ix)\n",
    "print(f\"Train Accuracy : {accuracy:.4f}\")\n",
    "print(f\"Train loss : {loss:.4f}\")\n",
    "print(f\"Train precision : {precision:.4f}\")\n",
    "print(f\"Train recall : {recall:.4f}\")\n",
    "print(f\"Train F1 score : {f1:.4f}\")\n"
   ]
  }
 ],
 "metadata": {
  "kernelspec": {
   "display_name": "Python 3",
   "language": "python",
   "name": "python3"
  },
  "language_info": {
   "codemirror_mode": {
    "name": "ipython",
    "version": 3
   },
   "file_extension": ".py",
   "mimetype": "text/x-python",
   "name": "python",
   "nbconvert_exporter": "python",
   "pygments_lexer": "ipython3",
   "version": "3.11.7"
  }
 },
 "nbformat": 4,
 "nbformat_minor": 2
}
