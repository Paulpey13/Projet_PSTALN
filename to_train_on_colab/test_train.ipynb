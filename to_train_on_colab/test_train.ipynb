{
  "nbformat": 4,
  "nbformat_minor": 0,
  "metadata": {
    "colab": {
      "provenance": [],
      "gpuType": "T4"
    },
    "kernelspec": {
      "name": "python3",
      "display_name": "Python 3"
    },
    "language_info": {
      "name": "python"
    },
    "accelerator": "GPU"
  },
  "cells": [
    {
      "cell_type": "code",
      "execution_count": 1,
      "metadata": {
        "colab": {
          "base_uri": "https://localhost:8080/"
        },
        "id": "tXHK51lmyM9J",
        "outputId": "9e43eb61-b4b3-44f8-ed99-b1fde5103941"
      },
      "outputs": [
        {
          "output_type": "stream",
          "name": "stdout",
          "text": [
            "Mounted at /content/gdrive\n"
          ]
        }
      ],
      "source": [
        "from google.colab import drive\n",
        "drive.mount('/content/gdrive')"
      ]
    },
    {
      "cell_type": "code",
      "source": [
        "import sys\n",
        "sys.path.append('/content/gdrive/MyDrive/PSTALN')\n",
        "!pip install conllu\n",
        "!pip install SentencePiece"
      ],
      "metadata": {
        "colab": {
          "base_uri": "https://localhost:8080/"
        },
        "id": "ftw2vuyQ0Daw",
        "outputId": "a5802215-ba79-43b1-a684-6b1dc6fac33e"
      },
      "execution_count": 2,
      "outputs": [
        {
          "output_type": "stream",
          "name": "stdout",
          "text": [
            "Requirement already satisfied: conllu in /usr/local/lib/python3.10/dist-packages (4.5.3)\n",
            "Requirement already satisfied: SentencePiece in /usr/local/lib/python3.10/dist-packages (0.1.99)\n"
          ]
        }
      ]
    },
    {
      "cell_type": "code",
      "source": [
        "import models\n",
        "import utils"
      ],
      "metadata": {
        "colab": {
          "base_uri": "https://localhost:8080/"
        },
        "id": "PIz6Ejle0Dia",
        "outputId": "1a1e5843-ed8c-49b3-845b-2354606e8a49"
      },
      "execution_count": 3,
      "outputs": [
        {
          "output_type": "stream",
          "name": "stderr",
          "text": [
            "Special tokens have been added in the vocabulary, make sure the associated word embeddings are fine-tuned or trained.\n"
          ]
        }
      ]
    },
    {
      "cell_type": "code",
      "source": [
        "# import torch\n",
        "# import torch.nn as nn\n",
        "# import torch.optim as optim\n",
        "# from torch.utils.data import Dataset, DataLoader\n",
        "# from transformers import BertTokenizer, BertModel\n",
        "# from conllu import parse_incr\n",
        "# from collections import Counter\n",
        "# import utils\n",
        "# import models\n",
        "\n",
        "\n",
        "# # Chargement des données et création des dictionnaires\n",
        "# sentences, pos_tags = utils.load_data(\"/content/gdrive/MyDrive/PSTALN/UD_French-Sequoia/fr_sequoia-ud-train.conllu\",pos=True)\n",
        "# #réduire data pour phase de test\n",
        "# limit=1000\n",
        "# sentences=sentences[0:limit]\n",
        "# pos_tags=pos_tags[0:limit]\n",
        "\n",
        "\n",
        "# tag_counts = Counter(tag for tags in pos_tags for tag in tags)\n",
        "# tag_to_ix = {tag: i+1 for i, tag in enumerate(tag_counts)}  # Décalage pour le padding\n",
        "# tag_to_ix['PAD'] = 0  # Ajout du tag de padding\n",
        "\n",
        "# #Création du dataset et du DataLoader\n",
        "# dataset = models.BertPOSDataset(sentences, pos_tags, tag_to_ix)\n",
        "# data_loader = DataLoader(dataset, batch_size=2, shuffle=True, collate_fn=models.bert_collate_fn)\n",
        "\n",
        "\n",
        "# #Modele et parametre d'entrainement\n",
        "# model = models.BertPOSTagger(len(tag_to_ix))\n",
        "# loss_function = nn.CrossEntropyLoss(ignore_index=tag_to_ix['PAD'])  # Ignorer les tags de padding dans le calcul de la loss\n",
        "# optimizer = optim.Adam(model.parameters(), lr=0.0001)\n",
        "\n",
        "# #Boucle d'entraînement avec calcul de l'accuracy\n",
        "# epochs=3\n",
        "# print(\"ça commence\")\n",
        "# utils.train(model, data_loader, loss_function, optimizer, tag_to_ix,epochs)\n",
        "\n",
        "\n",
        "# test_sentences, test_pos_tags = utils.load_data(\"/content/gdrive/MyDrive/PSTALN/UD_French-Sequoia/fr_sequoia-ud-test.conllu\",pos=True)\n",
        "# test_sentences=test_sentences[0:limit]\n",
        "# test_pos_tags=test_pos_tags[0:limit]\n",
        "\n",
        "# # Créer le DataLoader pour l'ensemble de test\n",
        "# test_dataset = models.BertPOSDataset(test_sentences, test_pos_tags, tag_to_ix)\n",
        "# test_loader = DataLoader(test_dataset, batch_size=2, shuffle=False, collate_fn=models.bert_collate_fn)\n",
        "\n",
        "# # Évaluer le modèle sur l'ensemble de test\n",
        "# utils.test_performance(model, test_loader, loss_function, tag_to_ix)\n",
        "\n",
        "# #Best accuracy pour le moment :\n",
        "# #Test Loss: 0.36735320182031084, Test Accuracy: 0.886901938601544"
      ],
      "metadata": {
        "id": "IelM78sR0Dkh"
      },
      "execution_count": 4,
      "outputs": []
    },
    {
      "cell_type": "code",
      "source": [
        "import torch\n",
        "import torch.nn as nn\n",
        "import torch.optim as optim\n",
        "from torch.utils.data import DataLoader\n",
        "import models\n",
        "import utils\n",
        "from collections import Counter\n",
        "\n",
        "# Vérifiez si un GPU est disponible et définissez-le comme appareil\n",
        "device = torch.device(\"cuda\" if torch.cuda.is_available() else \"cpu\")\n",
        "print(\"Utilisation de l'appareil :\", device)\n",
        "\n",
        "# Chargement des données et création des dictionnaires\n",
        "sentences, pos_tags = utils.load_data(\"/content/gdrive/MyDrive/PSTALN/UD_French-Sequoia/fr_sequoia-ud-train.conllu\", pos=True)\n",
        "# Réduire les données pour la phase de test\n",
        "# limit = 1000\n",
        "# sentences = sentences[0:limit]\n",
        "# pos_tags = pos_tags[0:limit]\n",
        "\n",
        "tag_counts = Counter(tag for tags in pos_tags for tag in tags)\n",
        "tag_to_ix = {tag: i+1 for i, tag in enumerate(tag_counts)}  # Décalage pour le padding\n",
        "tag_to_ix['PAD'] = 0  # Ajout du tag de padding\n",
        "\n",
        "# Création du dataset et du DataLoader\n",
        "dataset = models.BertPOSDataset(sentences, pos_tags, tag_to_ix)\n",
        "data_loader = DataLoader(dataset, batch_size=2, shuffle=True, collate_fn=models.bert_collate_fn)\n",
        "\n",
        "# Modèle et paramètres d'entraînement\n",
        "model = models.BertPOSTagger(len(tag_to_ix)).to(device)\n",
        "loss_function = nn.CrossEntropyLoss(ignore_index=tag_to_ix['PAD'])  # Ignorer les tags de padding dans le calcul de la loss\n",
        "optimizer = optim.Adam(model.parameters(), lr=0.0001)\n",
        "\n",
        "# Boucle d'entraînement avec calcul de l'accuracy\n",
        "epochs = 3\n",
        "print(\"Ça commence\")\n",
        "utils.train(model, data_loader, loss_function, optimizer, tag_to_ix, epochs, device)\n",
        "\n",
        "# Chargement des données de test\n",
        "test_sentences, test_pos_tags = utils.load_data(\"/content/gdrive/MyDrive/PSTALN/UD_French-Sequoia/fr_sequoia-ud-test.conllu\", pos=True)\n",
        "test_sentences = test_sentences#[0:limit]\n",
        "test_pos_tags = test_pos_tags#[0:limit]\n",
        "\n",
        "# Créer le DataLoader pour l'ensemble de test\n",
        "test_dataset = models.BertPOSDataset(test_sentences, test_pos_tags, tag_to_ix)\n",
        "test_loader = DataLoader(test_dataset, batch_size=2, shuffle=False, collate_fn=models.bert_collate_fn)\n",
        "\n",
        "# Évaluer le modèle sur l'ensemble de test\n",
        "utils.test_performance(model, test_loader, loss_function, tag_to_ix, device)\n"
      ],
      "metadata": {
        "colab": {
          "base_uri": "https://localhost:8080/"
        },
        "id": "kYszhE7M0Dmo",
        "outputId": "cbeb96a9-5e33-4702-cd34-757647bb1c9e"
      },
      "execution_count": null,
      "outputs": [
        {
          "output_type": "stream",
          "name": "stdout",
          "text": [
            "Utilisation de l'appareil : cuda\n",
            "Ça commence\n",
            "Epoch 1, Loss: 0.8889771300938821, Accuracy: 0.7677603727473634\n",
            "Time elapsed: 1.4229231079419453 min\n"
          ]
        }
      ]
    },
    {
      "cell_type": "code",
      "source": [],
      "metadata": {
        "id": "sNCpDtXR0Drl"
      },
      "execution_count": 5,
      "outputs": []
    },
    {
      "cell_type": "code",
      "source": [],
      "metadata": {
        "id": "0bkze_1-0DuB"
      },
      "execution_count": 5,
      "outputs": []
    },
    {
      "cell_type": "code",
      "source": [],
      "metadata": {
        "id": "HOYuxKMJ0Dwh"
      },
      "execution_count": 5,
      "outputs": []
    },
    {
      "cell_type": "code",
      "source": [],
      "metadata": {
        "id": "2RPArfVm0Dy8"
      },
      "execution_count": 5,
      "outputs": []
    },
    {
      "cell_type": "code",
      "source": [],
      "metadata": {
        "id": "sJvW_aeB0D1a"
      },
      "execution_count": 5,
      "outputs": []
    },
    {
      "cell_type": "code",
      "source": [],
      "metadata": {
        "id": "sA0jWoeV0D3-"
      },
      "execution_count": 5,
      "outputs": []
    },
    {
      "cell_type": "code",
      "source": [],
      "metadata": {
        "id": "K3VnVOR60D6Q"
      },
      "execution_count": 5,
      "outputs": []
    },
    {
      "cell_type": "code",
      "source": [],
      "metadata": {
        "id": "0MX2rP_s0D83"
      },
      "execution_count": 5,
      "outputs": []
    },
    {
      "cell_type": "code",
      "source": [],
      "metadata": {
        "id": "YVXyD3uF0D_b"
      },
      "execution_count": 5,
      "outputs": []
    },
    {
      "cell_type": "code",
      "source": [],
      "metadata": {
        "id": "roW9oaiZ0EBu"
      },
      "execution_count": 5,
      "outputs": []
    },
    {
      "cell_type": "code",
      "source": [],
      "metadata": {
        "id": "idLoWo0w0EET"
      },
      "execution_count": 5,
      "outputs": []
    },
    {
      "cell_type": "code",
      "source": [],
      "metadata": {
        "id": "6w29A6nN0EGr"
      },
      "execution_count": 5,
      "outputs": []
    },
    {
      "cell_type": "code",
      "source": [],
      "metadata": {
        "id": "yxGpkZof0EI-"
      },
      "execution_count": 5,
      "outputs": []
    },
    {
      "cell_type": "code",
      "source": [],
      "metadata": {
        "id": "s5Wzj96E0ELa"
      },
      "execution_count": 5,
      "outputs": []
    },
    {
      "cell_type": "code",
      "source": [],
      "metadata": {
        "id": "sTDErRKB0EOT"
      },
      "execution_count": 5,
      "outputs": []
    },
    {
      "cell_type": "code",
      "source": [],
      "metadata": {
        "id": "eigtNV900EQU"
      },
      "execution_count": 5,
      "outputs": []
    },
    {
      "cell_type": "code",
      "source": [],
      "metadata": {
        "id": "ZW4Y_K9e0ETD"
      },
      "execution_count": 5,
      "outputs": []
    },
    {
      "cell_type": "code",
      "source": [],
      "metadata": {
        "id": "Da-2FD1r0EVe"
      },
      "execution_count": 5,
      "outputs": []
    },
    {
      "cell_type": "code",
      "source": [],
      "metadata": {
        "id": "ulAXuvHK0EYJ"
      },
      "execution_count": 5,
      "outputs": []
    },
    {
      "cell_type": "code",
      "source": [],
      "metadata": {
        "id": "VEYJmq5R0Eab"
      },
      "execution_count": 5,
      "outputs": []
    },
    {
      "cell_type": "code",
      "source": [],
      "metadata": {
        "id": "4woAGXjA0Ecz"
      },
      "execution_count": 5,
      "outputs": []
    },
    {
      "cell_type": "code",
      "source": [],
      "metadata": {
        "id": "CkogtPaI0Eff"
      },
      "execution_count": 5,
      "outputs": []
    },
    {
      "cell_type": "code",
      "source": [],
      "metadata": {
        "id": "kfUkPgDn0EiC"
      },
      "execution_count": 5,
      "outputs": []
    },
    {
      "cell_type": "code",
      "source": [],
      "metadata": {
        "id": "fwBftZs90EnG"
      },
      "execution_count": 5,
      "outputs": []
    },
    {
      "cell_type": "code",
      "source": [],
      "metadata": {
        "id": "0bKd490Z0Eph"
      },
      "execution_count": 5,
      "outputs": []
    },
    {
      "cell_type": "code",
      "source": [],
      "metadata": {
        "id": "QtGpQZjF0EsH"
      },
      "execution_count": 5,
      "outputs": []
    },
    {
      "cell_type": "code",
      "source": [],
      "metadata": {
        "id": "E_pwUBOR0Euf"
      },
      "execution_count": 5,
      "outputs": []
    },
    {
      "cell_type": "code",
      "source": [],
      "metadata": {
        "id": "ya3wwJL90ExJ"
      },
      "execution_count": 5,
      "outputs": []
    },
    {
      "cell_type": "code",
      "source": [],
      "metadata": {
        "id": "pUNv_bju0Ezw"
      },
      "execution_count": 5,
      "outputs": []
    },
    {
      "cell_type": "code",
      "source": [],
      "metadata": {
        "id": "J3HNxLL00E2F"
      },
      "execution_count": 5,
      "outputs": []
    }
  ]
}